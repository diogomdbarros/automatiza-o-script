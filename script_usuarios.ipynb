{
  "nbformat": 4,
  "nbformat_minor": 0,
  "metadata": {
    "colab": {
      "provenance": [],
      "collapsed_sections": [
        "-_UFE5f08UIu",
        "SEOFITi08kCG"
      ],
      "authorship_tag": "ABX9TyP/Wa3gvvGHcY6OvqEgIJhU",
      "include_colab_link": true
    },
    "kernelspec": {
      "name": "python3",
      "display_name": "Python 3"
    },
    "language_info": {
      "name": "python"
    }
  },
  "cells": [
    {
      "cell_type": "markdown",
      "metadata": {
        "id": "view-in-github",
        "colab_type": "text"
      },
      "source": [
        "<a href=\"https://colab.research.google.com/github/diogomdbarros/automatiza-o-script/blob/main/script_usuarios.ipynb\" target=\"_parent\"><img src=\"https://colab.research.google.com/assets/colab-badge.svg\" alt=\"Open In Colab\"/></a>"
      ]
    },
    {
      "cell_type": "markdown",
      "source": [
        "# Script de Automação de Texto para Criação de Usuários\n"
      ],
      "metadata": {
        "id": "B6Mc0QwXi1vQ"
      }
    },
    {
      "cell_type": "markdown",
      "source": [
        "## 1. Bibliotecas"
      ],
      "metadata": {
        "id": "47p4dyJkMTYF"
      }
    },
    {
      "cell_type": "markdown",
      "source": [
        "### 1.1 Importando Bibliotecas"
      ],
      "metadata": {
        "id": "6r4fKl1o_JJf"
      }
    },
    {
      "cell_type": "code",
      "execution_count": null,
      "metadata": {
        "id": "QkqKrIqfKNzc"
      },
      "outputs": [],
      "source": [
        "import pandas as pd"
      ]
    },
    {
      "cell_type": "markdown",
      "source": [
        "### 2. Carregando arquivo CSV"
      ],
      "metadata": {
        "id": "SxC4qLF-_QKa"
      }
    },
    {
      "cell_type": "code",
      "source": [
        "df = pd.read_csv(\"SOLICITAÇÃO DE ACESSOS.csv\")"
      ],
      "metadata": {
        "id": "5DsnVzRER9G6"
      },
      "execution_count": null,
      "outputs": []
    },
    {
      "cell_type": "markdown",
      "source": [
        "## 3. Tratamento dos Dados"
      ],
      "metadata": {
        "id": "UoFWClKA_xSA"
      }
    },
    {
      "cell_type": "markdown",
      "source": [
        "### 3.1 Removendo Colunas\n",
        "\n",
        "Remoção de colunas que não serão utilizadas no dataframe para solução do projeto."
      ],
      "metadata": {
        "id": "eEwIUFQwjYnK"
      }
    },
    {
      "cell_type": "code",
      "source": [
        "# Exclui colunas não utilizadas do DataFrame\n",
        "df.drop('MATRICULA', axis=1, inplace=True)\n",
        "df.drop('DATA DE ADMISSÃO', axis=1, inplace=True)\n",
        "df.drop('NOME DO SOLICITANTE', axis=1, inplace=True)\n",
        "df.drop('HORARIO DE EXPEDIENTE(OPERADOR)', axis=1, inplace=True)\n",
        "df.drop('Unnamed: 10', axis=1, inplace=True)\n",
        "# Renomeando Colunas\n",
        "df.columns = ['data', 'nome', 'setor', 'cpf', 'filial', 'telefone', 'email_solicitante', 'supervisor']"
      ],
      "metadata": {
        "id": "nhRhOvuw_vbg"
      },
      "execution_count": null,
      "outputs": []
    },
    {
      "cell_type": "code",
      "source": [
        "df.head()"
      ],
      "metadata": {
        "id": "DjBRRInClKTF"
      },
      "execution_count": null,
      "outputs": []
    },
    {
      "cell_type": "markdown",
      "source": [
        "### 3.2 Função seletora de usuário espelho\n",
        "\n",
        "Função criada para adicionar uma coluna ( setor ) ao dataframe, com dados de um usuário já existente ( usuário  espelho ) para auxílio do TI na criação dos novos acessos com as permissõs já definidas."
      ],
      "metadata": {
        "id": "CO5fAiYa-nxI"
      }
    },
    {
      "cell_type": "code",
      "source": [
        "# Função para localizar o setor e atribuir o Usuario_Espelho correspondente\n",
        "def definir_usuario_espelho(setor):\n",
        "    if setor == 'ADM':\n",
        "        return 'joao.pedro user/0001'\n",
        "    elif setor == 'RH':\n",
        "        return 'maria.flor user/0002'\n",
        "    elif setor == 'OPERAÇÃO':\n",
        "        return 'ana.clara user/0003'\n",
        "    else:\n",
        "        return 'pedro.silva user/0004'\n",
        "\n",
        "# Adiciona a coluna usuário espelho conforme o setor localizado na coluna \"setor\"\n",
        "df['usuario_espelho'] = df['setor'].apply(definir_usuario_espelho)\n"
      ],
      "metadata": {
        "id": "sRUQKFU8kEmf"
      },
      "execution_count": null,
      "outputs": []
    },
    {
      "cell_type": "markdown",
      "source": [
        "### 3.3 Função Formatação de CPF\n",
        "\n",
        "A função formata a coluna CPF verificando se os mesmos possuem 11 digitos e se todos os caracteres são numéricos."
      ],
      "metadata": {
        "id": "-ozEAcv0A1vh"
      }
    },
    {
      "cell_type": "code",
      "source": [
        "def formatar_cpf(cpf):\n",
        "    # Remove qualquer caractere não numérico\n",
        "    cpf = ''.join(filter(str.isdigit, cpf))\n",
        "    # Garantir que o CPF tenha 11 dígitos e aplicar a formatação\n",
        "    if len(cpf) == 11:\n",
        "        return f'{cpf[:3]}.{cpf[3:6]}.{cpf[6:9]}-{cpf[9:]}'\n",
        "    return cpf  # Retorna sem formatação se não tiver 11 dígitos\n",
        "\n",
        "# Adiciona a formatação a coluna \"cpf\"\n",
        "df['cpf'] = df['cpf'].apply(formatar_cpf)"
      ],
      "metadata": {
        "id": "nF4FXdV29bfm"
      },
      "execution_count": null,
      "outputs": []
    },
    {
      "cell_type": "markdown",
      "source": [
        "### 3.4 Função Formatação de Telefone\n",
        "\n",
        "A função formata a coluna ( telefone ) verificando se os mesmos possuem 11 digitos e se todos os caracteres são numéricos."
      ],
      "metadata": {
        "id": "dYsPx139CNLj"
      }
    },
    {
      "cell_type": "code",
      "source": [
        "def formatar_telefone(telefone):\n",
        "    # Remove qualquer caractere não númerico\n",
        "    telefone = ''.join(filter(str.isdigit, telefone))\n",
        "    # Formatar telefone\n",
        "    if len(telefone) == 11:  # Celular\n",
        "        return f'({telefone[:2]}) {telefone[2:7]}-{telefone[7:]}'\n",
        "    return telefone  # Retorna sem formatação se não tiver 11 dígitos\n",
        "\n",
        "# Adiciona a formatação a coluna \"telefone\"\n",
        "df['telefone'] = df['telefone'].apply(formatar_telefone)"
      ],
      "metadata": {
        "id": "e5GWfCMMCZKR"
      },
      "execution_count": null,
      "outputs": []
    },
    {
      "cell_type": "code",
      "source": [
        "df.tail(4)"
      ],
      "metadata": {
        "id": "83GcnvcslR6q"
      },
      "execution_count": null,
      "outputs": []
    },
    {
      "cell_type": "markdown",
      "source": [
        "## 4. Texto Base\n",
        "\n",
        "Aqui a variável \"script\" guarda o texto a ser gerado segundo as necessidades do processo. Foram adicionados placeholders {} para o preenchimento automático com os dados do dataframe."
      ],
      "metadata": {
        "id": "tQuIc4IkhMon"
      }
    },
    {
      "cell_type": "code",
      "source": [
        "script = \"\"\"\n",
        "Criar AD - {nome}\n",
        "\n",
        "Boa dia!\n",
        "Poderiam realizar criação do AD {nome}, por favor?\n",
        "Cargo: Teleoperador\n",
        "Gerente: {gerente}\n",
        "Desde já agradeço\n",
        "\n",
        "Criar usuário - {nome}\n",
        "\n",
        "Boa dia!\n",
        "Poderiam realizar criação no SIS/ADM/QUEUE para {nome}, por favor?\n",
        "Setor: {setor}\n",
        "Cargo: Teleoperador\n",
        "CPF: {cpf}\n",
        "Gerente: {gerente}\n",
        "Usuario espelho: {usuario_espelho}\n",
        "Local de trabalho: {filial}\n",
        "Desde já agradeço\n",
        "\n",
        "Telefone: {telefone}\n",
        "\n",
        "\"\"\""
      ],
      "metadata": {
        "id": "YBLUQ4F2VddX"
      },
      "execution_count": null,
      "outputs": []
    },
    {
      "cell_type": "markdown",
      "source": [
        "# 5. Gerando Texto por Intervalo"
      ],
      "metadata": {
        "id": "u2hOspVLFKY1"
      }
    },
    {
      "cell_type": "markdown",
      "source": [
        "## 5.1. O objetivo aqui é selecionar um intervalo de linhas do DataFrame df.\n",
        "\n"
      ],
      "metadata": {
        "id": "-_UFE5f08UIu"
      }
    },
    {
      "cell_type": "code",
      "source": [
        "# Selecionar linhas\n",
        "df_selecionado = df.loc[df.index[466:470]]\n",
        "\n",
        "# Gerar textos apenas para essas linhas\n",
        "for index, row in df_selecionado.iterrows():\n",
        "    texto_personalizado = script.format(\n",
        "        nome=row['nome'],\n",
        "        cpf=row['cpf'],\n",
        "        setor=row['setor'],\n",
        "        filial=row['filial'],\n",
        "        usuario_espelho=row['usuario_espelho'],\n",
        "        telefone=row['telefone']\n",
        "    )\n",
        "    print(f\"Texto gerado para {row['nome']}:\\n{texto_personalizado}\\n\")"
      ],
      "metadata": {
        "id": "hL0BE3YOD2Nb"
      },
      "execution_count": null,
      "outputs": []
    },
    {
      "cell_type": "markdown",
      "source": [
        "### 5.1.1\n",
        "* df.loc[ ]: Este método do pandas é usado para selecionar dados com base nos rótulos (labels) das linhas e colunas.\n",
        "\n",
        "* df.index[466:470]: Esta parte seleciona as linhas com base nos índices do DataFrame, especificamente da linha de índice 466 até 469 (o índice 470 é excluído, já que o intervalo 466:470 é exclusivo do último valor). Ou seja, são 4 linhas selecionadas.\n",
        "\n",
        "* O resultado é que df_selecionado será um novo DataFrame que contém as linhas de índice 466, 467, 468 e 469 do DataFrame original df."
      ],
      "metadata": {
        "id": "hNu5371eAg3v"
      }
    },
    {
      "cell_type": "markdown",
      "source": [
        "### 5.1.2 O for index, row in df_selecionado.iterrows( ):\n",
        "\n"
      ],
      "metadata": {
        "id": "SEOFITi08kCG"
      }
    },
    {
      "cell_type": "markdown",
      "source": [
        "### 5.1.3 Objetivo: Iterar pelas linhas do DataFrame df_selecionado.\n",
        "\n",
        "* df_selecionado.iterrows( ): Retorna um gerador que percorre cada linha do DataFrame. Em cada iteração, o método iterrows( ) retorna um índice (index) e uma série (row) contendo os dados da linha.\n",
        "Por exemplo, se o DataFrame tem 4 colunas (como nome, cpf, etc.), então row será uma série contendo esses valores para a linha atual."
      ],
      "metadata": {
        "id": "4D6kSYdnApWI"
      }
    },
    {
      "cell_type": "markdown",
      "source": [
        "### 5.1.4 A variavel texto_personalizado = script.format( nome=row['nome'], cpf=row['cpf'], setor=row['setor'], filial=row['filial'], usuario_espelho=row['usuario_espelho'], telefone=row['telefone'] )Objetivo: Criar um texto personalizado para cada linha do DataFrame.\n",
        "\n",
        "\n",
        "\n"
      ],
      "metadata": {
        "id": "-fF24nkoHBNs"
      }
    },
    {
      "cell_type": "markdown",
      "source": [
        "### 5.1.5\n",
        "\n",
        "* script.format(...): Usa a função format() de strings em Python para substituir os placeholders no template script com os valores reais extraídos da linha row.\n",
        "\n",
        "* row['nome'], row['cpf'], etc.: Extrai o valor correspondente à coluna especificada da linha atual (a série row).\n",
        "  row['nome']: Valor da coluna nome na linha atual.\n",
        "  row['cpf']: Valor da coluna cpf na linha atual.\n",
        "\n",
        "* Da mesma forma para as outras colunas: setor, filial, usuario_espelho, telefone.\n",
        "\n",
        "* A função format() substitui esses placeholders ({nome}, {cpf}, etc.) dentro da variável script com os valores reais extraídos da linha, gerando o texto personalizado."
      ],
      "metadata": {
        "id": "6aKNfkcKANoW"
      }
    },
    {
      "cell_type": "markdown",
      "source": [
        "\n",
        "### 5.1.6 print(f\"Texto gerado para {row['nome']}:\\n{texto_personalizado}\\n\")\n",
        "\n"
      ],
      "metadata": {
        "id": "VzH0n60F-jCk"
      }
    },
    {
      "cell_type": "markdown",
      "source": [
        "### 5.1.7 Objetivo: Exibir o texto gerado no console.\n",
        "\n",
        "* (f\"Texto gerado para {row['nome']}:\\n{texto_personalizado}\\n\"): A f-string permite a interpolação de variáveis diretamente na string. Aqui, o nome da pessoa (row['nome']) é incluído na mensagem.\n",
        "* \\n: Inserção de quebras de linha para melhorar a legibilidade da saída no console.\n",
        "* O resultado é que para cada iteração, o texto personalizado gerado será exibido, indicando para qual pessoa ({row['nome']}) o texto foi gerado."
      ],
      "metadata": {
        "id": "XtxJ9U29A_kz"
      }
    },
    {
      "cell_type": "markdown",
      "source": [
        "### 5.1.8. indices_especificos = [466, 467, 468, 469]\n",
        "Objetivo: Definir uma lista de índices de linhas específicas que você deseja processar do DataFrame df.\n",
        "\n",
        "Detalhe:\n",
        "\n",
        "Aqui, a variável indices_especificos é uma lista que contém os números de índices das linhas que você quer processar.\n",
        "No exemplo, a lista contém os índices [466, 467, 468, 469], o que significa que você quer selecionar essas 4 linhas específicas do DataFrame, com base nos seus índices."
      ],
      "metadata": {
        "id": "_DvQvB-F__qv"
      }
    },
    {
      "cell_type": "markdown",
      "source": [
        "## 5.2 Gerar texto pegando por Índice Expecífico\n",
        "\n"
      ],
      "metadata": {
        "id": "MaBHufwpHjnq"
      }
    },
    {
      "cell_type": "code",
      "source": [
        "# Índices das linhas que deseja processar\n",
        "indices_especificos = [466, 467, 468, 469]  # Exemplo: processar a primeira, terceira e quinta linha\n",
        "\n",
        "# Selecionar essas linhas\n",
        "df_selecionado = df.loc[indices_especificos]\n",
        "\n",
        "# Gerar textos apenas para essas linhas\n",
        "for index, row in df_selecionado.iterrows():\n",
        "    texto_personalizado = script.format(\n",
        "         nome=row['nome'],\n",
        "        cpf=row['cpf'],\n",
        "        setor=row['setor'],\n",
        "        filial=row['filial'],\n",
        "        usuario_espelho=row['usuario_espelho'],\n",
        "        telefone=row['telefone']\n",
        "    )\n",
        "    print(f\"Texto gerado para {row['nome']}:\\n{texto_personalizado}\\n\")\n"
      ],
      "metadata": {
        "id": "OgoTnMGhDZM-"
      },
      "execution_count": null,
      "outputs": []
    },
    {
      "cell_type": "markdown",
      "source": [
        "#### 5.2.1.\n",
        "\n",
        "indices_especificos = [466, 467, 468, 469]\n",
        "\n",
        "Objetivo: Definir uma lista de índices de linhas específicas que você deseja processar do DataFrame df.\n",
        "\n",
        "Detalhe:\n",
        "\n",
        "Aqui, a variável indices_especificos é uma lista que contém os números de índices das linhas que você quer processar.\n",
        "No exemplo, a lista contém os índices [466, 467, 468, 469], o que significa que você quer selecionar essas 4 linhas específicas do DataFrame, com base nos seus índices."
      ],
      "metadata": {
        "id": "Lk58m39uB583"
      }
    },
    {
      "cell_type": "markdown",
      "source": [
        "#### 5.2.2.\n",
        "df_selecionado = df.loc[indices_especificos]\n",
        "\n",
        "Objetivo: Selecionar as linhas do DataFrame df com os índices listados em indices_especificos.\n",
        "\n",
        "Detalhe:\n",
        "\n",
        "df.loc[]: Este é um método de indexação por rótulos no pandas. Ele é usado para selecionar linhas e colunas com base nos rótulos de índice, não pela posição numérica da linha.\n",
        "\n",
        "Uma outra opção de seleção seria:\n",
        "\n",
        "Se você quiser selecionar linhas pela posição (em vez de rótulos de índice), usaria df.iloc[].\n",
        "\n",
        "df.loc[indices_especificos]: Acessa as linhas cujos índices são exatamente os listados em indices_especificos. Ou seja, seleciona as linhas com índice 466, 467, 468, e 469 no DataFrame df.\n",
        "\n",
        "Resultado:\n",
        "\n",
        "O resultado dessa linha é um novo DataFrame df_selecionado que contém apenas as 4 linhas de df cujos índices são 466, 467, 468 e 469."
      ],
      "metadata": {
        "id": "-a32e63_CPvR"
      }
    }
  ]
}